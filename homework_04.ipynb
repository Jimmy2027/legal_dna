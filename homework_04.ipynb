{
 "cells": [
  {
   "cell_type": "markdown",
   "id": "intermediate-replacement",
   "metadata": {},
   "source": [
    "# HW03: Supervised Machine Learning, Regression and XGBoost"
   ]
  },
  {
   "cell_type": "markdown",
   "id": "promotional-metabolism",
   "metadata": {},
   "source": [
    "Remember that these homework work as a completion grade. **You can skip one section without losing credit.**"
   ]
  },
  {
   "cell_type": "markdown",
   "id": "developmental-agent",
   "metadata": {},
   "source": [
    "## Load and Pre-process Text\n",
    "We do sentiment analysis on the [Movie Review Data](https://www.cs.cornell.edu/people/pabo/movie-review-data/). If you would like to know more about the data, have a look at [the paper](https://www.cs.cornell.edu/home/llee/papers/pang-lee-stars.pdf) (but no need to do so)."
   ]
  },
  {
   "cell_type": "code",
   "execution_count": 1,
   "id": "above-mercury",
   "metadata": {},
   "outputs": [
    {
     "name": "stdout",
     "output_type": "stream",
     "text": [
      "--2021-03-17 10:44:15--  https://www.cs.cornell.edu/people/pabo/movie-review-data/scale_data.tar.gz\r\n",
      "Resolving www.cs.cornell.edu (www.cs.cornell.edu)... 132.236.207.36\r\n",
      "Connecting to www.cs.cornell.edu (www.cs.cornell.edu)|132.236.207.36|:443... connected.\r\n",
      "HTTP request sent, awaiting response... 200 OK\r\n",
      "Length: 4029756 (3,8M) [application/x-gzip]\r\n",
      "Saving to: ‘scale_data.tar.gz’\r\n",
      "\r\n",
      "scale_data.tar.gz   100%[===================>]   3,84M  2,94MB/s    in 1,3s    \r\n",
      "\r\n",
      "2021-03-17 10:44:17 (2,94 MB/s) - ‘scale_data.tar.gz’ saved [4029756/4029756]\r\n",
      "\r\n",
      "--2021-03-17 10:44:18--  https://www.cs.cornell.edu/people/pabo/movie-review-data/scale_whole_review.tar.gz\r\n",
      "Resolving www.cs.cornell.edu (www.cs.cornell.edu)... 132.236.207.36\r\n",
      "Connecting to www.cs.cornell.edu (www.cs.cornell.edu)|132.236.207.36|:443... connected.\r\n",
      "HTTP request sent, awaiting response... 200 OK\r\n",
      "Length: 8853204 (8,4M) [application/x-gzip]\r\n",
      "Saving to: ‘scale_whole_review.tar.gz’\r\n",
      "\r\n",
      "scale_whole_review. 100%[===================>]   8,44M  2,71MB/s    in 3,1s    \r\n",
      "\r\n",
      "2021-03-17 10:44:21 (2,71 MB/s) - ‘scale_whole_review.tar.gz’ saved [8853204/8853204]\r\n",
      "\r\n"
     ]
    }
   ],
   "source": [
    "# In this tutorial, we do sentiment analysis\n",
    "# download the data\n",
    "#!wget https://ai.stanford.edu/~amaas/data/sentiment/aclImdb_v1.tar.gz\n",
    "#!tar xf aclImdb_v1.tar.gz\n",
    "\n",
    "!wget https://www.cs.cornell.edu/people/pabo/movie-review-data/scale_data.tar.gz\n",
    "!wget https://www.cs.cornell.edu/people/pabo/movie-review-data/scale_whole_review.tar.gz\n",
    " \n",
    "!tar xf scale_data.tar.gz \n",
    "!tar xf scale_whole_review.tar.gz"
   ]
  },
  {
   "cell_type": "markdown",
   "id": "cleared-flower",
   "metadata": {},
   "source": [
    "First, we have to load the data for which we provide the function below. Note how we also preprocess the text using gensim's simple_preprocess() function and how we already split the data into a train and test split."
   ]
  },
  {
   "cell_type": "code",
   "execution_count": 1,
   "id": "alive-indonesian",
   "metadata": {},
   "outputs": [
    {
     "name": "stdout",
     "output_type": "stream",
     "text": [
      "text: bloody child the director writer cinematographer nina menkes screenwriter tinka menkes editors nina and tina menkes cast tinka menkes captain sherry sibley murdered wife robert mueller murderer russ little sergeant jack hara enlisted man runtime mirage reviewed by dennis schwartz an amazingly strange film confusing and not thoroughly enjoyable but film found more interesting than thought possible at first viewing this experimental film in minimalist story telling film consisting of disturbing visualizations and almost no dialogue had concept that was greater than how the film turned out it felt at times like was watching paint dry on the wall but the reward for sitting through those excruciatingly redundant scenes was in seeing something different something that cast spell of sorcery over terrible incident as believe the film in its unique and sometimes shrill voice does justice in commenting on the violence in american society especially against women the film uses its impressions of the marine base as metaphor for the social violence in today american society and to give it its startling look of reality marines were used as the actors it was filmed at twenty nine palms calif the largest marine base in the country which is located in the mojave desert the plot is simple it is about real incident that happened to marine returning from the persian gulf war who murdered his wife and was caught at sunrise digging her grave in the mojave desert by military patrol the film tells its story by showing the military police by the murder site making small talk while awaiting for the arrest to be completed and the marines off base relaxing in country and western lounge as some marines lewdly dance in front of some female patrons the film boredom is broken up by camera shots of marines in conversations that we can hear in its entirety but are treated to little snippets of hearing mostly their curse words the captain in charge of the arrest is tinka menkes the director sister she tries to get the male marines to take this incident seriously and act professional as they treat her as an outsider but with proper military respect because the film had no linear story and followed no chronological order and it stressed the mundaneness of life on the base and did not film its story in the usual way murder investigation is filmed it appeared surreal for whatever reason nina menkes the great sadness of zohara magdalena viraga queen of diamonds director am not familiar with has chosen to put parts of macbeth into the film the disembodied voice of the murdered wife is heard at times as the voice of violated spirit along with scenes from northeast africa tinka is sitting naked in the forest clearing writing unreadable words on her arm there is also riderless black horse going on the base and the film ends on quote from the book of genesis about lot wife turned into pillar of salt when she looked back thought these additions seemed to serve mostly as unneeded arty pretext the arrested marine is not seen in total but is viewed from side glances of him in the same car as his bloodied dead wife military policeman is seen shoving the marine face into his dead wife bloody lap and yelling some nearly inaudible obscenities at him the film tells nothing about the why and how of the murder but touches on the reality of life on the marine base making it seem like wasteland inhabited only by those sent to purgatory the unsettling milieu in which the crime took place speaks volumes about why the murder might have taken place the film seems to be telling us that it up to us to make sense of what we ve seen though the film was dull and did not move me while was watching it it did something to me afterwards intellectually it made me think of military base the persian gulf war and of marital abuse but it made me think of them without the usual concepts bring to my thinking cap does that make this great film no but it makes it an interesting one film that can easily dismiss its filming of the arrest is so chilling and memorable because what is so dull and ordinary about the crime scene is the understated reason for the origin of the violence contrary to the way hollywood films portray violence here it is part of the landscape that one regularly sees but perhaps one doesn really understand or want to understand what evil society has created reviewed on dennis schwartz ozus world movie reviews all rights reserved dennis schwartz \n",
      "label: 0.6\n"
     ]
    }
   ],
   "source": [
    "import os\n",
    "from gensim.utils import simple_preprocess\n",
    "def load_data():\n",
    "    examples, labels = [], []\n",
    "    authors = os.listdir(\"scale_whole_review\")\n",
    "    for author in authors:\n",
    "        path = os.listdir(os.path.join(\"scale_whole_review\", author, \"txt.parag\"))\n",
    "        fn_ids = os.path.join(\"scaledata\", author, \"id.\" + author)\n",
    "        fn_ratings = os.path.join(\"scaledata\", author, \"rating.\" + author)\n",
    "        with open(fn_ids) as ids, open(fn_ratings) as ratings:\n",
    "            for idx, rating in zip(ids, ratings):\n",
    "                labels.append(float(rating.strip()))\n",
    "                filename_text = os.path.join(\"scale_whole_review\", author, \"txt.parag\", idx.strip() + \".txt\")\n",
    "                with open(filename_text, encoding='latin-1') as f:\n",
    "                    examples.append(\" \".join(simple_preprocess(f.read())))\n",
    "    return examples, labels\n",
    "                  \n",
    "X,y  = load_data()\n",
    "from sklearn.model_selection import train_test_split\n",
    "X_train, X_test, y_train, y_test = train_test_split(X, y, test_size=0.33, random_state=42)\n",
    "print (\"text:\", X_train[0], \"\\nlabel:\", y_train[0])"
   ]
  },
  {
   "cell_type": "markdown",
   "id": "desirable-employee",
   "metadata": {},
   "source": [
    "## Vectorize the data"
   ]
  },
  {
   "cell_type": "code",
   "execution_count": 2,
   "id": "tribal-possible",
   "metadata": {},
   "outputs": [],
   "source": [
    "# train a TF_IDF Vectorizer on X_train and vectorize X_train and X_test\n",
    "from sklearn.feature_extraction.text import TfidfVectorizer\n",
    "\n",
    "vec = TfidfVectorizer(min_df=0.01, # at min 1% of docs\n",
    "                        max_df=.5,  \n",
    "                        stop_words='english',\n",
    "                        ngram_range=(1,2))\n",
    "\n",
    "##TODO train vectorizer\n",
    "vec.fit(X_train)\n",
    "##TODO transform X_train to TF-IDF values\n",
    "X_train_tfidf = vec.transform(X_train)\n",
    "##TODO transform X_test to TF-IDF values\n",
    "X_test_tfidf = vec.transform(X_test)"
   ]
  },
  {
   "cell_type": "code",
   "execution_count": 3,
   "id": "incomplete-surveillance",
   "metadata": {},
   "outputs": [],
   "source": [
    "##TODO scale both training and test data with the standard scaler\n",
    "from sklearn.preprocessing import StandardScaler\n",
    "scaler = StandardScaler(with_mean=False)\n",
    "scaler.fit(X_train_tfidf)\n",
    "X_train_scaled = scaler.transform(X_train_tfidf)\n",
    "X_test_scaled = scaler.transform(X_test_tfidf)"
   ]
  },
  {
   "cell_type": "markdown",
   "id": "dress-endorsement",
   "metadata": {},
   "source": [
    "## ElasticNet"
   ]
  },
  {
   "cell_type": "code",
   "execution_count": 4,
   "id": "expressed-celebration",
   "metadata": {},
   "outputs": [],
   "source": [
    "##TODO train an elastic net on the transformed output of the scaler\n",
    "from sklearn.linear_model import ElasticNet\n",
    "\n",
    "en = ElasticNet(alpha=0.01)\n",
    "\n",
    "##TODO train the ElasticNet\n",
    "en.fit(X_train_scaled, y_train)\n",
    "##TODO predict the testset\n",
    "pred = en.predict(X_test_scaled)"
   ]
  },
  {
   "cell_type": "code",
   "execution_count": 5,
   "outputs": [
    {
     "name": "stdout",
     "output_type": "stream",
     "text": [
      "[0.53101505 0.64887074 0.71933284 ... 0.53997695 0.49289631 0.54983887]\n",
      "[0.5, 0.7, 0.83, 0.3, 0.3, 0.79, 0.64, 0.81, 0.6, 0.3, 0.7, 0.2, 0.8, 0.75, 0.6, 0.4, 0.8, 0.3, 0.7, 0.4, 0.9, 0.4, 0.5, 0.6, 0.5, 0.5, 0.47, 0.5, 0.3, 0.8, 0.5, 0.6, 0.3, 0.4, 0.4, 0.2, 0.6, 0.7, 0.7, 0.4, 0.5, 0.2, 0.7, 0.6, 0.8, 0.4, 0.3, 0.6, 0.61, 0.5, 0.7, 0.2, 0.8, 0.6, 0.3, 0.4, 0.7, 0.5, 0.6, 0.7, 0.7, 0.78, 0.5, 0.4, 0.3, 0.3, 0.7, 0.5, 0.9, 0.6, 0.2, 0.49, 0.8, 0.8, 0.6, 0.6, 0.5, 0.46, 0.75, 0.3, 0.6, 0.7, 0.5, 0.4, 0.6, 0.3, 0.6, 0.5, 0.6, 0.4, 0.4, 0.7, 0.6, 0.7, 0.6, 0.4, 0.5, 0.75, 0.3, 0.7, 0.6, 0.8, 0.7, 0.6, 0.4, 0.35, 0.7, 0.5, 0.92, 0.5, 0.3, 0.5, 0.3, 0.5, 0.44, 0.5, 0.65, 0.6, 0.4, 0.8, 0.8, 0.71, 0.7, 0.4, 0.6, 0.7, 1.0, 0.6, 0.9, 0.7, 0.7, 0.9, 0.8, 0.6, 0.7, 0.6, 0.6, 0.8, 0.3, 0.8, 0.58, 0.8, 0.56, 0.8, 0.2, 0.59, 0.6, 0.6, 0.8, 0.7, 0.5, 0.4, 0.8, 0.6, 0.5, 0.5, 0.55, 0.8, 0.84, 0.7, 0.5, 0.7, 0.3, 0.1, 0.9, 0.7, 0.8, 0.4, 0.7, 0.79, 0.5, 0.8, 0.6, 0.4, 0.5, 0.6, 0.9, 0.6, 0.6, 0.7, 0.5, 0.9, 0.5, 0.6, 0.6, 0.9, 0.6, 0.1, 0.7, 0.85, 0.4, 0.3, 0.8, 0.33, 0.5, 0.7, 0.7, 0.8, 0.6, 0.5, 0.5, 0.6, 0.5, 0.4, 0.7, 0.61, 0.5, 0.85, 0.5, 0.5, 0.7, 0.4, 0.3, 0.7, 0.7, 0.67, 0.2, 0.7, 0.4, 0.3, 0.6, 0.8, 0.8, 0.5, 0.1, 0.7, 0.65, 0.3, 0.2, 0.6, 0.7, 0.4, 0.8, 0.7, 0.6, 0.5, 0.5, 0.7, 0.5, 0.5, 0.7, 0.69, 0.3, 0.5, 0.6, 0.47, 0.7, 0.76, 0.52, 0.5, 0.7, 0.4, 0.4, 0.69, 0.4, 0.8, 0.6, 0.7, 0.9, 0.7, 0.8, 0.4, 0.8, 0.5, 0.7, 0.5, 0.6, 0.7, 0.5, 0.64, 0.6, 0.7, 0.5, 0.6, 0.4, 0.2, 0.4, 0.85, 0.4, 0.5, 0.1, 0.6, 0.11, 0.9, 0.6, 0.5, 0.7, 0.8, 0.3, 0.7, 0.8, 0.8, 0.59, 0.7, 0.7, 0.7, 0.4, 0.5, 0.7, 0.5, 0.7, 0.7, 0.7, 0.4, 0.5, 0.9, 0.9, 0.6, 0.6, 0.38, 0.9, 0.8, 0.4, 0.5, 0.5, 0.6, 0.6, 0.5, 0.6, 0.6, 0.9, 0.7, 0.8, 0.6, 0.82, 0.7, 0.6, 0.5, 0.6, 0.7, 0.8, 0.58, 0.5, 0.7, 0.6, 0.8, 0.3, 0.75, 0.7, 0.75, 0.94, 0.8, 0.4, 0.6, 0.3, 0.4, 0.8, 0.62, 0.3, 0.7, 0.4, 0.4, 0.3, 0.65, 0.6, 0.6, 0.1, 0.59, 0.3, 0.3, 0.6, 0.4, 0.4, 0.3, 0.9, 0.7, 0.5, 0.7, 0.5, 0.7, 0.55, 0.8, 0.7, 0.3, 0.6, 0.31, 0.3, 0.6, 0.6, 0.6, 0.2, 0.2, 0.5, 0.8, 0.5, 0.9, 0.6, 0.7, 0.4, 0.4, 0.5, 0.8, 0.5, 0.6, 0.7, 0.9, 0.4, 0.4, 0.8, 0.7, 0.5, 0.3, 0.6, 0.5, 0.9, 0.71, 0.3, 0.8, 0.9, 0.6, 0.3, 0.75, 0.73, 0.4, 0.3, 0.6, 0.6, 0.5, 0.67, 0.9, 0.6, 0.8, 0.2, 0.9, 0.8, 0.56, 0.6, 0.2, 0.7, 0.75, 0.6, 0.58, 0.5, 0.35, 0.4, 0.8, 0.3, 0.4, 0.7, 0.3, 0.6, 0.7, 0.4, 0.85, 0.4, 0.8, 0.5, 0.7, 0.5, 0.5, 0.5, 0.7, 0.4, 0.2, 0.9, 0.4, 0.5, 0.3, 0.3, 0.7, 0.4, 0.8, 0.5, 0.5, 0.5, 0.45, 0.31, 0.4, 0.6, 0.8, 0.6, 0.4, 0.8, 0.8, 0.85, 0.9, 0.7, 0.6, 0.7, 0.6, 0.8, 0.5, 0.67, 0.2, 0.5, 0.8, 0.4, 0.5, 0.5, 0.3, 0.7, 0.63, 0.5, 0.75, 0.5, 0.66, 0.7, 0.8, 0.4, 0.45, 0.8, 0.7, 0.8, 0.7, 0.6, 0.7, 0.25, 0.8, 0.45, 0.5, 0.55, 0.8, 0.6, 0.5, 0.5, 0.8, 0.55, 0.2, 0.8, 0.5, 0.39, 0.7, 0.26, 0.7, 0.5, 0.8, 0.6, 0.6, 0.2, 0.3, 0.3, 0.5, 0.32, 0.6, 0.6, 0.7, 0.6, 0.4, 0.65, 0.8, 0.51, 0.3, 0.3, 0.3, 0.6, 0.8, 0.3, 0.5, 0.7, 0.5, 0.6, 0.7, 0.6, 0.4, 0.5, 0.2, 0.7, 0.5, 0.5, 0.5, 0.3, 0.7, 0.5, 0.6, 0.5, 0.5, 0.8, 0.8, 0.85, 0.7, 0.4, 0.6, 0.5, 0.8, 0.7, 0.2, 0.8, 0.5, 0.6, 0.5, 0.5, 0.6, 0.75, 0.79, 0.6, 0.5, 0.79, 0.77, 0.5, 1.0, 0.6, 0.3, 0.8, 0.6, 0.4, 0.6, 0.8, 0.8, 0.4, 0.6, 0.5, 0.4, 0.8, 0.3, 0.4, 0.7, 0.8, 0.5, 0.4, 0.8, 0.7, 0.65, 0.5, 0.6, 0.7, 0.75, 0.7, 0.5, 0.4, 0.84, 0.6, 0.95, 0.7, 0.5, 0.9, 0.8, 0.8, 0.47, 0.5, 0.4, 0.58, 0.3, 0.3, 0.5, 0.7, 0.15, 0.6, 0.3, 0.3, 0.65, 0.6, 0.5, 0.2, 0.5, 0.6, 0.3, 0.55, 0.4, 0.65, 0.48, 0.7, 0.7, 0.3, 0.6, 0.3, 0.5, 0.4, 0.7, 0.6, 0.5, 0.9, 0.6, 0.4, 0.8, 0.4, 0.7, 0.5, 0.78, 0.3, 0.5, 0.4, 0.65, 0.3, 0.7, 0.62, 0.7, 0.86, 0.7, 0.28, 0.8, 0.4, 0.8, 0.6, 0.6, 0.6, 0.7, 0.6, 0.5, 0.43, 0.7, 0.6, 0.71, 0.8, 0.6, 0.5, 0.6, 0.4, 0.6, 0.66, 0.82, 0.7, 0.7, 0.5, 0.35, 0.89, 0.85, 0.8, 0.4, 0.7, 0.39, 0.4, 0.4, 0.5, 0.4, 0.3, 0.6, 0.6, 0.5, 0.3, 0.6, 0.8, 0.8, 0.4, 0.3, 0.5, 0.4, 0.5, 0.6, 0.6, 0.36, 0.6, 0.3, 0.4, 0.6, 0.63, 0.5, 0.7, 0.7, 0.9, 0.8, 0.85, 0.9, 0.8, 0.7, 0.7, 0.7, 0.7, 0.4, 0.65, 0.3, 0.9, 0.5, 0.7, 0.51, 0.6, 0.8, 0.5, 0.7, 0.61, 0.7, 0.76, 0.8, 0.6, 0.65, 0.6, 0.6, 0.5, 0.3, 0.4, 0.8, 0.7, 0.5, 0.5, 0.75, 0.5, 0.5, 0.9, 0.8, 0.6, 0.7, 0.7, 0.7, 0.7, 0.7, 0.3, 0.8, 0.4, 0.5, 0.6, 0.7, 0.55, 0.8, 0.4, 0.6, 0.4, 0.55, 0.8, 0.4, 0.8, 0.3, 0.4, 0.7, 0.5, 0.4, 0.5, 0.6, 0.3, 0.3, 0.7, 0.4, 0.1, 0.3, 0.4, 0.4, 0.9, 0.9, 0.25, 0.6, 0.73, 0.5, 0.6, 0.5, 0.7, 0.7, 0.6, 0.6, 0.9, 0.7, 0.4, 0.5, 0.5, 0.7, 0.4, 0.85, 0.9, 0.8, 0.8, 0.3, 0.4, 0.7, 0.5, 0.5, 0.3, 0.7, 0.7, 0.6, 0.5, 0.8, 0.75, 0.33, 0.5, 0.2, 0.3, 0.6, 0.55, 0.5, 0.86, 0.4, 0.6, 0.7, 0.5, 0.5, 0.4, 0.5, 0.8, 0.7, 0.55, 0.8, 0.8, 0.75, 0.7, 0.4, 0.3, 0.16, 0.2, 0.3, 0.4, 0.45, 0.4, 0.6, 0.7, 0.5, 0.7, 0.7, 0.4, 0.6, 0.4, 0.8, 0.7, 0.6, 0.2, 0.4, 0.7, 0.63, 0.44, 0.3, 0.7, 0.2, 0.5, 0.3, 0.9, 0.8, 0.5, 0.7, 0.4, 0.7, 0.6, 0.5, 0.6, 0.5, 0.69, 0.6, 0.4, 0.8, 0.7, 0.6, 0.89, 0.3, 0.8, 0.7, 0.7, 0.3, 0.7, 0.5, 0.6, 0.5, 0.6, 0.6, 0.4, 0.45, 0.7, 0.8, 0.7, 0.7, 0.4, 0.5, 0.2, 0.6, 0.6, 0.85, 0.78, 0.43, 0.5, 0.8, 0.6, 0.75, 1.0, 0.4, 0.4, 0.5, 0.75, 0.3, 0.3, 0.4, 0.7, 0.63, 0.5, 0.32, 0.6, 0.7, 0.4, 0.6, 0.8, 0.88, 0.8, 0.4, 0.2, 0.5, 0.5, 0.8, 0.6, 0.6, 0.4, 0.5, 0.65, 0.2, 0.65, 0.6, 0.7, 0.7, 0.97, 0.8, 0.4, 0.4, 0.85, 0.5, 0.5, 0.9, 0.4, 0.4, 0.9, 0.5, 0.4, 0.3, 0.6, 0.1, 0.4, 0.8, 0.6, 0.4, 0.5, 0.7, 0.7, 0.48, 0.6, 0.78, 0.7, 0.5, 0.8, 0.4, 0.42, 0.8, 0.8, 0.75, 0.8, 0.8, 0.4, 0.8, 0.5, 0.5, 0.7, 0.7, 0.5, 0.6, 0.6, 0.7, 0.4, 0.3, 0.5, 0.6, 0.5, 0.5, 0.6, 0.8, 0.41, 0.4, 0.7, 0.5, 0.5, 0.2, 0.6, 0.5, 0.4, 0.7, 0.3, 0.7, 0.6, 0.5, 0.4, 0.5, 0.9, 0.79, 0.7, 0.5, 0.9, 0.7, 0.8, 0.8, 0.6, 0.4, 0.7, 0.6, 0.3, 0.2, 0.85, 0.5, 0.5, 0.8, 0.7, 0.6, 0.6, 0.2, 0.75, 0.88, 0.8, 0.2, 0.5, 0.4, 0.7, 0.6, 0.8, 0.6, 0.44, 0.5, 0.6, 0.8, 0.5, 0.8, 0.6, 0.8, 0.72, 0.5, 0.4, 0.45, 0.8, 0.7, 0.62, 0.6, 0.7, 0.7, 0.4, 0.8, 0.6, 0.5, 0.4, 0.5, 0.7, 0.95, 0.6, 0.5, 0.8, 0.6, 0.5, 0.41, 0.3, 0.9, 0.85, 0.5, 0.7, 0.3, 0.9, 0.8, 0.35, 0.7, 0.45, 0.65, 0.85, 0.7, 0.4, 0.7, 0.4, 0.6, 0.5, 0.61, 0.6, 0.6, 0.44, 0.8, 0.8, 0.57, 0.6, 0.9, 0.7, 0.8, 0.3, 0.5, 0.67, 0.7, 0.9, 0.5, 0.8, 0.6, 0.6, 0.5, 0.5, 0.5, 0.35, 0.75, 0.6, 0.3, 0.4, 0.7, 0.9, 0.5, 0.6, 0.9, 0.7, 0.5, 0.6, 0.3, 0.6, 0.6, 0.2, 0.4, 0.6, 0.4, 0.6, 0.7, 0.5, 0.4, 0.4, 0.6, 0.3, 0.7, 0.3, 0.9, 0.3, 0.74, 0.5, 0.4, 0.7, 0.3, 0.7, 0.4, 0.5, 0.9, 0.5, 0.5, 0.8, 0.2, 0.5, 0.6, 0.6, 0.5, 0.7, 0.8, 0.84, 0.5, 0.5, 0.5, 0.7, 0.6, 0.65, 0.6, 0.7, 0.6, 0.7, 0.8, 0.2, 0.74, 0.5, 0.8, 0.9, 0.55, 0.84, 0.5, 0.5, 0.6, 0.5, 0.6, 0.7, 0.7, 0.6, 0.5, 0.52, 0.5, 0.5, 0.5, 0.7, 0.9, 0.8, 0.6, 0.7, 0.4, 0.7, 0.4, 0.6, 0.5, 0.6, 0.5, 0.5, 0.6, 0.15, 0.5, 0.75, 0.5, 0.6, 0.55, 0.6, 0.5, 0.3, 0.5, 0.7, 0.4, 0.7, 0.4, 0.7, 0.9, 0.6, 0.73, 0.2, 0.2, 0.7, 0.4, 0.4, 0.6, 0.3, 0.4, 0.6, 0.86, 0.8, 0.7, 0.7, 0.3, 0.6, 0.6, 0.4, 0.6, 0.5, 0.8, 0.4, 0.6, 0.9, 0.4, 0.7, 0.8, 0.3, 0.5, 0.6, 0.6, 0.4, 0.6, 0.3, 0.65, 0.66, 0.6, 0.5, 0.8, 0.7, 0.5, 0.4, 0.8, 0.52, 0.3, 0.5, 1.0, 0.65, 0.5, 0.5, 0.7, 0.7, 0.4, 0.5, 0.7, 0.7, 0.6, 0.8, 0.2, 0.5, 0.83, 0.7, 0.3, 0.4, 0.8, 0.5, 0.7, 0.7, 0.4, 0.47, 0.73, 0.4, 0.3, 0.58, 0.4, 0.6, 0.2, 0.3, 0.4, 0.65, 0.4, 0.4, 0.4, 0.84, 0.6, 0.6, 0.4, 0.5, 0.4, 0.3, 0.62, 0.8, 0.4, 0.6, 0.7, 0.8, 0.3, 0.8, 0.5, 0.5, 0.7, 0.8, 0.7, 0.84, 0.7, 0.51, 0.8, 0.6, 0.7, 0.5, 0.4, 0.5, 0.85, 0.65, 0.6, 0.6, 0.85, 0.51, 0.66, 0.75, 0.4, 0.8, 0.7, 0.6, 0.7, 0.7, 0.8, 0.4, 0.7, 0.4, 0.6, 0.6, 0.79, 0.6, 0.5, 0.4, 0.6, 0.5, 0.7, 0.5, 0.77, 0.7, 0.5, 0.7, 0.6, 0.4, 0.4, 0.7, 0.9, 0.8, 0.4, 0.5, 0.6, 0.4, 0.5, 0.45, 0.9, 0.8, 0.7, 0.4, 0.4, 0.8, 0.8, 0.5, 0.4, 0.4, 0.65, 0.6, 0.7, 0.63, 0.8, 0.5, 0.85, 0.75, 0.6, 0.6, 0.5, 0.7, 0.5, 0.7, 0.45, 0.5, 0.8, 0.2, 0.7, 0.9, 0.78, 0.4, 0.7, 0.55, 0.6, 0.4, 0.6, 0.6, 0.6, 0.87, 0.5, 0.6, 0.7, 0.6, 0.7, 0.4, 0.28, 0.3, 0.6, 0.6, 0.4, 0.4, 0.3, 0.8, 0.8, 0.4, 0.6, 0.8, 0.9, 0.5, 0.2, 0.7, 0.4, 0.8, 0.9, 0.4, 0.6, 0.6, 0.4, 0.75, 0.4, 0.4, 0.5, 0.7, 0.3, 0.7, 0.88, 0.75, 0.4, 0.6, 0.6, 0.6, 0.6, 0.4, 0.8, 0.4, 0.4, 0.51, 0.6, 0.5, 0.8, 0.6, 0.6, 0.8, 0.3, 0.5, 0.82, 0.2, 0.25, 0.7, 0.5, 0.6, 0.3, 0.8, 0.6, 0.58, 0.9, 0.3, 0.4, 0.7, 0.93, 0.4, 0.4, 0.4, 0.3, 0.5, 0.7, 0.6, 0.82, 0.3, 0.66, 0.6, 0.7, 0.7, 0.8, 0.1, 0.4, 0.7, 0.5, 0.6, 0.3, 0.4, 0.35, 0.6, 0.5, 0.3, 0.5, 0.85, 0.4, 0.29, 0.0, 0.7, 0.6, 0.6, 0.6, 0.9, 0.51, 0.4, 0.7, 0.4, 0.8, 0.7, 0.7, 0.8, 0.5, 0.7, 0.8, 0.6, 0.6, 0.7, 0.7, 0.5, 0.8, 0.7, 0.8, 0.53, 0.3, 0.3, 0.5, 0.5, 0.8, 0.5, 0.5, 0.3, 0.7, 0.3, 0.9, 0.3, 0.4, 0.6, 0.5, 0.7, 0.4, 0.3, 0.7, 0.6, 0.8, 0.5, 0.6, 0.3, 0.8, 0.79, 0.3, 0.8, 0.6, 0.8, 0.4, 0.68, 0.9, 0.5, 0.9, 0.4, 0.4, 0.79, 0.61, 0.4, 0.85, 0.8, 0.8, 0.9, 0.4, 0.6, 0.49, 0.84, 0.3, 0.5, 0.4, 0.8, 0.3, 0.4, 0.9, 0.5, 0.6, 0.4, 0.5, 0.5, 0.3]\n",
      "Mean squared error: 0.01653578226467153\n",
      "R2 score: 0.49772890489643706\n"
     ]
    }
   ],
   "source": [
    "print(pred)\n",
    "print(y_test)\n",
    "from sklearn.metrics import r2_score, accuracy_score, mean_squared_error, balanced_accuracy_score\n",
    "##TODO print mean squared error and r2 score on the test set\n",
    "print(f'Mean squared error: {mean_squared_error(y_test, pred)}')\n",
    "print(f'R2 score: {r2_score(y_test, pred)}')"
   ],
   "metadata": {
    "collapsed": false,
    "pycharm": {
     "name": "#%%\n"
    }
   }
  },
  {
   "cell_type": "markdown",
   "id": "increased-cooler",
   "metadata": {},
   "source": [
    "## Logistic Regression"
   ]
  },
  {
   "cell_type": "markdown",
   "id": "graphic-slovakia",
   "metadata": {},
   "source": [
    "Next, we train an OLS model doing binary prediction on these movie reviews. Two get two bins, we transform the continuous ratings into two classes, where one class contains all the negative ratings (value < 0.5), the other class all the positive ratings (value > 0.5)"
   ]
  },
  {
   "cell_type": "code",
   "execution_count": 6,
   "id": "vocational-rehabilitation",
   "metadata": {},
   "outputs": [],
   "source": [
    "y_train = [1 if i >= 0.5 else 0 for i in y_train]\n",
    "y_test = [1 if i >= 0.5 else 0 for i in y_test]\n"
   ]
  },
  {
   "cell_type": "code",
   "execution_count": 7,
   "id": "convinced-enlargement",
   "metadata": {},
   "outputs": [
    {
     "name": "stdout",
     "output_type": "stream",
     "text": [
      "Accuracy: 0.8075060532687651\n"
     ]
    },
    {
     "name": "stderr",
     "output_type": "stream",
     "text": [
      "/Users/Hendrik/opt/anaconda3/envs/legal_dna/lib/python3.6/site-packages/sklearn/linear_model/_logistic.py:765: ConvergenceWarning: lbfgs failed to converge (status=1):\n",
      "STOP: TOTAL NO. of ITERATIONS REACHED LIMIT.\n",
      "\n",
      "Increase the number of iterations (max_iter) or scale the data as shown in:\n",
      "    https://scikit-learn.org/stable/modules/preprocessing.html\n",
      "Please also refer to the documentation for alternative solver options:\n",
      "    https://scikit-learn.org/stable/modules/linear_model.html#logistic-regression\n",
      "  extra_warning_msg=_LOGISTIC_SOLVER_CONVERGENCE_MSG)\n"
     ]
    }
   ],
   "source": [
    "##TODO train logistic regression on X_train\n",
    "from sklearn.linear_model import LogisticRegression\n",
    "logistic_regression = LogisticRegression()\n",
    "\n",
    "##TODO train a logistic regression\n",
    "logistic_regression.fit(X_train_scaled, y_train)\n",
    "##TODO predict the testset \n",
    "pred = logistic_regression.predict(X_test_scaled)\n",
    "##since we have continuous output, we need to post-process our labels into two classes. We choose a threshold of 0.5 \n",
    "def map_predictions(predicted):\n",
    "    predicted = [1 if i > 0.5 else 0 for i in predicted]\n",
    "    return predicted\n",
    "\n",
    "##TODO print the accuracy of our classifier on the testset\n",
    "pred = map_predictions(pred)\n",
    "print(f'Accuracy: {accuracy_score(y_test, pred)}')"
   ]
  },
  {
   "cell_type": "code",
   "execution_count": 14,
   "outputs": [
    {
     "name": "stdout",
     "output_type": "stream",
     "text": [
      "great            0.229969\n",
      "effective        0.210105\n",
      "surprisingly     0.201393\n",
      "punches          0.197310\n",
      "success          0.185941\n",
      "fascinating      0.184809\n",
      "influenced       0.182900\n",
      "investigating    0.179927\n",
      "brilliant        0.179231\n",
      "best             0.173113\n",
      "dtype: float64\n"
     ]
    }
   ],
   "source": [
    "import pandas as pd\n",
    "## TODO print the 10 most informative words of the regression (the 10 words having the highest coefficients)\n",
    "print (pd.Series(index=vec.get_feature_names(), data=logistic_regression.coef_.flatten()).nlargest(10))"
   ],
   "metadata": {
    "collapsed": false,
    "pycharm": {
     "name": "#%%\n"
    }
   }
  },
  {
   "cell_type": "markdown",
   "id": "complicated-environment",
   "metadata": {},
   "source": [
    "## XGBoost"
   ]
  },
  {
   "cell_type": "markdown",
   "id": "genetic-closing",
   "metadata": {},
   "source": [
    "Lastly, we train an XGBoost classifier to do topic prediction on the AG news dataset, which is a multi-class prediction problem (4 classes). We again have to vectorize the data, train the classifier, predict the testset and output an evaluation metric (we go for accuracy)."
   ]
  },
  {
   "cell_type": "code",
   "execution_count": 19,
   "id": "numeric-yorkshire",
   "metadata": {},
   "outputs": [
    {
     "name": "stdout",
     "output_type": "stream",
     "text": [
      "Collecting xgboost\r\n",
      "  Downloading xgboost-1.3.3-py3-none-macosx_10_14_x86_64.macosx_10_15_x86_64.macosx_11_0_x86_64.whl (1.2 MB)\r\n",
      "\u001B[K     |████████████████████████████████| 1.2 MB 2.1 MB/s eta 0:00:01\r\n",
      "\u001B[?25hRequirement already satisfied: numpy in /Users/Hendrik/opt/anaconda3/envs/legal_dna/lib/python3.6/site-packages (from xgboost) (1.19.5)\r\n",
      "Requirement already satisfied: scipy in /Users/Hendrik/opt/anaconda3/envs/legal_dna/lib/python3.6/site-packages (from xgboost) (1.5.4)\r\n",
      "Installing collected packages: xgboost\r\n",
      "Successfully installed xgboost-1.3.3\r\n"
     ]
    }
   ],
   "source": [
    "!pip install xgboost"
   ]
  },
  {
   "cell_type": "code",
   "execution_count": 20,
   "id": "funky-potter",
   "metadata": {},
   "outputs": [
    {
     "name": "stdout",
     "output_type": "stream",
     "text": [
      "--2021-03-17 11:18:39--  https://raw.githubusercontent.com/mhjabreel/CharCnn_Keras/master/data/ag_news_csv/train.csv\r\n",
      "Resolving raw.githubusercontent.com (raw.githubusercontent.com)... 185.199.109.133, 185.199.108.133, 185.199.111.133, ...\r\n",
      "Connecting to raw.githubusercontent.com (raw.githubusercontent.com)|185.199.109.133|:443... connected.\r\n",
      "HTTP request sent, awaiting response... 200 OK\r\n",
      "Length: 29470338 (28M) [text/plain]\r\n",
      "Saving to: ‘train.csv’\r\n",
      "\r\n",
      "train.csv           100%[===================>]  28,10M  1,78MB/s    in 15s     \r\n",
      "\r\n",
      "2021-03-17 11:18:57 (1,86 MB/s) - ‘train.csv’ saved [29470338/29470338]\r\n",
      "\r\n"
     ]
    },
    {
     "data": {
      "text/plain": "   label                                              title  \\\n0      3  Carlyle Looks Toward Commercial Aerospace (Reu...   \n1      3    Oil and Economy Cloud Stocks' Outlook (Reuters)   \n2      3  Iraq Halts Oil Exports from Main Southern Pipe...   \n3      3  Oil prices soar to all-time record, posing new...   \n4      3        Stocks End Up, But Near Year Lows (Reuters)   \n\n                                                lead  \\\n0  Reuters - Private investment firm Carlyle Grou...   \n1  Reuters - Soaring crude prices plus worries\\ab...   \n2  Reuters - Authorities have halted oil export\\f...   \n3  AFP - Tearaway world oil prices, toppling reco...   \n4  Reuters - Stocks ended slightly higher on Frid...   \n\n                                                text  \n0  Carlyle Looks Toward Commercial Aerospace (Reu...  \n1  Oil and Economy Cloud Stocks' Outlook (Reuters...  \n2  Iraq Halts Oil Exports from Main Southern Pipe...  \n3  Oil prices soar to all-time record, posing new...  \n4  Stocks End Up, But Near Year Lows (Reuters) Re...  ",
      "text/html": "<div>\n<style scoped>\n    .dataframe tbody tr th:only-of-type {\n        vertical-align: middle;\n    }\n\n    .dataframe tbody tr th {\n        vertical-align: top;\n    }\n\n    .dataframe thead th {\n        text-align: right;\n    }\n</style>\n<table border=\"1\" class=\"dataframe\">\n  <thead>\n    <tr style=\"text-align: right;\">\n      <th></th>\n      <th>label</th>\n      <th>title</th>\n      <th>lead</th>\n      <th>text</th>\n    </tr>\n  </thead>\n  <tbody>\n    <tr>\n      <th>0</th>\n      <td>3</td>\n      <td>Carlyle Looks Toward Commercial Aerospace (Reu...</td>\n      <td>Reuters - Private investment firm Carlyle Grou...</td>\n      <td>Carlyle Looks Toward Commercial Aerospace (Reu...</td>\n    </tr>\n    <tr>\n      <th>1</th>\n      <td>3</td>\n      <td>Oil and Economy Cloud Stocks' Outlook (Reuters)</td>\n      <td>Reuters - Soaring crude prices plus worries\\ab...</td>\n      <td>Oil and Economy Cloud Stocks' Outlook (Reuters...</td>\n    </tr>\n    <tr>\n      <th>2</th>\n      <td>3</td>\n      <td>Iraq Halts Oil Exports from Main Southern Pipe...</td>\n      <td>Reuters - Authorities have halted oil export\\f...</td>\n      <td>Iraq Halts Oil Exports from Main Southern Pipe...</td>\n    </tr>\n    <tr>\n      <th>3</th>\n      <td>3</td>\n      <td>Oil prices soar to all-time record, posing new...</td>\n      <td>AFP - Tearaway world oil prices, toppling reco...</td>\n      <td>Oil prices soar to all-time record, posing new...</td>\n    </tr>\n    <tr>\n      <th>4</th>\n      <td>3</td>\n      <td>Stocks End Up, But Near Year Lows (Reuters)</td>\n      <td>Reuters - Stocks ended slightly higher on Frid...</td>\n      <td>Stocks End Up, But Near Year Lows (Reuters) Re...</td>\n    </tr>\n  </tbody>\n</table>\n</div>"
     },
     "execution_count": 20,
     "metadata": {},
     "output_type": "execute_result"
    }
   ],
   "source": [
    "#Import the AG news dataset (same as hw01)\n",
    "#Download them from here \n",
    "# !wget https://raw.githubusercontent.com/mhjabreel/CharCnn_Keras/master/data/ag_news_csv/train.csv\n",
    "\n",
    "import pandas as pd\n",
    "import nltk\n",
    "df = pd.read_csv('train.csv')\n",
    "\n",
    "df.columns = [\"label\", \"title\", \"lead\"]\n",
    "df[\"text\"] = df[\"title\"] + \" \" + df[\"lead\"]\n",
    "df.head()"
   ]
  },
  {
   "cell_type": "code",
   "execution_count": 21,
   "id": "polar-telephone",
   "metadata": {},
   "outputs": [],
   "source": [
    "# vectorize the data\n",
    "from sklearn.feature_extraction.text import TfidfVectorizer\n",
    "\n",
    "# only consider 10% of the data\n",
    "dfs = df.sample(frac=0.1)\n",
    "\n",
    "# split into train and test\n",
    "X_train, X_test, y_train, y_test = train_test_split(dfs[\"text\"], dfs[\"label\"], test_size=0.33, random_state=42)\n",
    "\n",
    "vec = TfidfVectorizer(min_df=5, # at min 1% of docs\n",
    "                        max_df=.5,  \n",
    "                        stop_words='english',\n",
    "                        max_features=2000,\n",
    "                        ngram_range=(1,2))\n",
    "\n",
    "# transform into TF-IDF values\n",
    "X_train_tfidf = vec.fit_transform(X_train).todense()\n",
    "X_test_tfidf = vec.transform(X_test).todense()\n"
   ]
  },
  {
   "cell_type": "markdown",
   "id": "adjusted-receipt",
   "metadata": {},
   "source": [
    "XGBoost provides an interface to SKLearn classifiers, e.g. they implement the same train and predict methods as an SKLearn classifier would. If you are interested in a more detailed overview, have a look at the [official documentation](https://xgboost.readthedocs.io/en/latest/python/index.html)."
   ]
  },
  {
   "cell_type": "code",
   "execution_count": 25,
   "id": "brown-engineer",
   "metadata": {},
   "outputs": [
    {
     "name": "stdout",
     "output_type": "stream",
     "text": [
      "[11:35:23] WARNING: /Users/travis/build/dmlc/xgboost/src/learner.cc:1061: Starting in XGBoost 1.3.0, the default evaluation metric used with the objective 'multi:softmax' was changed from 'merror' to 'mlogloss'. Explicitly set eval_metric if you'd like to restore the old behavior.\n",
      "Accuracy: 0.8078282828282828\n"
     ]
    }
   ],
   "source": [
    "param_dist = {'objective':'multi:softmax', 'num_class': 5, 'n_estimators':25}\n",
    "# note how we only have 4 labels, but we need to pass \"num_class\": 5\n",
    "# if we pass \"num_class\": 4, we get the error \"label must be in [0, num_class).\"\n",
    "import xgboost as xgb\n",
    "\n",
    "clf = xgb.XGBModel(**param_dist)\n",
    "\n",
    "##TODO train the XGBModel \n",
    "clf.fit(X_train_tfidf, y_train)\n",
    "##TODO predict the testset \n",
    "pred = clf.predict(X_test_tfidf)\n",
    "##TODO evaluate the predictions using accuracy as a metric\n",
    "print(f'Accuracy: {accuracy_score(y_test, pred)}')"
   ]
  },
  {
   "cell_type": "markdown",
   "source": [
    "With scaling no change in score:"
   ],
   "metadata": {
    "collapsed": false,
    "pycharm": {
     "name": "#%% md\n"
    }
   }
  },
  {
   "cell_type": "code",
   "execution_count": 26,
   "outputs": [
    {
     "name": "stdout",
     "output_type": "stream",
     "text": [
      "[11:37:03] WARNING: /Users/travis/build/dmlc/xgboost/src/learner.cc:1061: Starting in XGBoost 1.3.0, the default evaluation metric used with the objective 'multi:softmax' was changed from 'merror' to 'mlogloss'. Explicitly set eval_metric if you'd like to restore the old behavior.\n",
      "Accuracy: 0.8078282828282828\n"
     ]
    }
   ],
   "source": [
    "scaler = StandardScaler(with_mean=False)\n",
    "X_train_scaled = scaler.fit_transform(X_train_tfidf)\n",
    "X_test_scaled = scaler.transform(X_test_tfidf)\n",
    "clf_ = xgb.XGBModel(**param_dist)\n",
    "\n",
    "##TODO train the XGBModel\n",
    "clf_.fit(X_train_scaled, y_train)\n",
    "##TODO predict the testset\n",
    "pred = clf_.predict(X_test_scaled)\n",
    "print(f'Accuracy: {accuracy_score(y_test, pred)}')"
   ],
   "metadata": {
    "collapsed": false,
    "pycharm": {
     "name": "#%%\n"
    }
   }
  },
  {
   "cell_type": "code",
   "execution_count": null,
   "outputs": [],
   "source": [],
   "metadata": {
    "collapsed": false,
    "pycharm": {
     "name": "#%%\n"
    }
   }
  }
 ],
 "metadata": {
  "kernelspec": {
   "display_name": "Python 3",
   "language": "python",
   "name": "python3"
  },
  "language_info": {
   "codemirror_mode": {
    "name": "ipython",
    "version": 3
   },
   "file_extension": ".py",
   "mimetype": "text/x-python",
   "name": "python",
   "nbconvert_exporter": "python",
   "pygments_lexer": "ipython3",
   "version": "3.6.12"
  }
 },
 "nbformat": 4,
 "nbformat_minor": 5
}