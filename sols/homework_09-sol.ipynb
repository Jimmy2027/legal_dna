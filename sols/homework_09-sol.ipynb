{
 "cells": [
  {
   "cell_type": "markdown",
   "id": "caring-concrete",
   "metadata": {},
   "source": [
    "# HW09: Transformers\n",
    "\n",
    "Remember that these homework work as a completion grade. **You can skip one section of this homework.**"
   ]
  },
  {
   "cell_type": "code",
   "execution_count": 1,
   "id": "perceived-yukon",
   "metadata": {},
   "outputs": [
    {
     "data": {
      "text/html": [
       "<div>\n",
       "<style scoped>\n",
       "    .dataframe tbody tr th:only-of-type {\n",
       "        vertical-align: middle;\n",
       "    }\n",
       "\n",
       "    .dataframe tbody tr th {\n",
       "        vertical-align: top;\n",
       "    }\n",
       "\n",
       "    .dataframe thead th {\n",
       "        text-align: right;\n",
       "    }\n",
       "</style>\n",
       "<table border=\"1\" class=\"dataframe\">\n",
       "  <thead>\n",
       "    <tr style=\"text-align: right;\">\n",
       "      <th></th>\n",
       "      <th>label</th>\n",
       "      <th>title</th>\n",
       "      <th>lead</th>\n",
       "      <th>label_name</th>\n",
       "      <th>text</th>\n",
       "    </tr>\n",
       "  </thead>\n",
       "  <tbody>\n",
       "    <tr>\n",
       "      <th>28991</th>\n",
       "      <td>0</td>\n",
       "      <td>New Orleans Urges People to Take Shelter</td>\n",
       "      <td>NEW ORLEANS - With 135-mph Hurricane Ivan clos...</td>\n",
       "      <td>world</td>\n",
       "      <td>New Orleans Urges People to Take Shelter NEW O...</td>\n",
       "    </tr>\n",
       "    <tr>\n",
       "      <th>27936</th>\n",
       "      <td>1</td>\n",
       "      <td>SI.com</td>\n",
       "      <td>ST. LOUIS (Ticker) -- It looked like Roger Cle...</td>\n",
       "      <td>sport</td>\n",
       "      <td>SI.com ST. LOUIS (Ticker) -- It looked like Ro...</td>\n",
       "    </tr>\n",
       "    <tr>\n",
       "      <th>6849</th>\n",
       "      <td>3</td>\n",
       "      <td>Underwater Archaeologists Dig for History (AP)</td>\n",
       "      <td>AP - Instead of wearing khakis, students this ...</td>\n",
       "      <td>sci/tech</td>\n",
       "      <td>Underwater Archaeologists Dig for History (AP)...</td>\n",
       "    </tr>\n",
       "    <tr>\n",
       "      <th>29448</th>\n",
       "      <td>1</td>\n",
       "      <td>Football? No, it #39;s the Ryder Cup</td>\n",
       "      <td>It #39;s got to be the Bobby Bowden, good-ol #...</td>\n",
       "      <td>sport</td>\n",
       "      <td>Football? No, it #39;s the Ryder Cup It #39;s ...</td>\n",
       "    </tr>\n",
       "    <tr>\n",
       "      <th>19419</th>\n",
       "      <td>1</td>\n",
       "      <td>Bellevue dominates dream matchup against De La...</td>\n",
       "      <td>At almost noon yesterday, the Bellevue High Sc...</td>\n",
       "      <td>sport</td>\n",
       "      <td>Bellevue dominates dream matchup against De La...</td>\n",
       "    </tr>\n",
       "  </tbody>\n",
       "</table>\n",
       "</div>"
      ],
      "text/plain": [
       "       label                                              title  \\\n",
       "28991      0           New Orleans Urges People to Take Shelter   \n",
       "27936      1                                             SI.com   \n",
       "6849       3     Underwater Archaeologists Dig for History (AP)   \n",
       "29448      1               Football? No, it #39;s the Ryder Cup   \n",
       "19419      1  Bellevue dominates dream matchup against De La...   \n",
       "\n",
       "                                                    lead label_name  \\\n",
       "28991  NEW ORLEANS - With 135-mph Hurricane Ivan clos...      world   \n",
       "27936  ST. LOUIS (Ticker) -- It looked like Roger Cle...      sport   \n",
       "6849   AP - Instead of wearing khakis, students this ...   sci/tech   \n",
       "29448  It #39;s got to be the Bobby Bowden, good-ol #...      sport   \n",
       "19419  At almost noon yesterday, the Bellevue High Sc...      sport   \n",
       "\n",
       "                                                    text  \n",
       "28991  New Orleans Urges People to Take Shelter NEW O...  \n",
       "27936  SI.com ST. LOUIS (Ticker) -- It looked like Ro...  \n",
       "6849   Underwater Archaeologists Dig for History (AP)...  \n",
       "29448  Football? No, it #39;s the Ryder Cup It #39;s ...  \n",
       "19419  Bellevue dominates dream matchup against De La...  "
      ]
     },
     "execution_count": 1,
     "metadata": {},
     "output_type": "execute_result"
    }
   ],
   "source": [
    "import warnings; warnings.simplefilter('ignore')\n",
    "import pandas as pd\n",
    "import nltk\n",
    "df = pd.read_csv('train.csv')\n",
    "\n",
    "df.columns = [\"label\", \"title\", \"lead\"]\n",
    "label_map = {1:\"world\", 2:\"sport\", 3:\"business\", 4:\"sci/tech\"}\n",
    "\n",
    "def replace_label(x):\n",
    "\treturn label_map[x]\n",
    "df[\"label_name\"] = df[\"label\"].apply(replace_label)\n",
    "df['label']=df['label']-1\n",
    "df[\"text\"] = df[\"title\"] + \" \" + df[\"lead\"]\n",
    "df = df.sample(n=10000) # # only use 10K datapoints\n",
    "df.head()"
   ]
  },
  {
   "cell_type": "markdown",
   "id": "million-greenhouse",
   "metadata": {},
   "source": [
    "## Hugginface Transformers"
   ]
  },
  {
   "cell_type": "code",
   "execution_count": 2,
   "id": "gorgeous-winter",
   "metadata": {},
   "outputs": [
    {
     "name": "stderr",
     "output_type": "stream",
     "text": [
      "Some layers from the model checkpoint at distilbert-base-uncased were not used when initializing TFDistilBertForSequenceClassification: ['activation_13', 'vocab_transform', 'vocab_projector', 'vocab_layer_norm']\n",
      "- This IS expected if you are initializing TFDistilBertForSequenceClassification from the checkpoint of a model trained on another task or with another architecture (e.g. initializing a BertForSequenceClassification model from a BertForPreTraining model).\n",
      "- This IS NOT expected if you are initializing TFDistilBertForSequenceClassification from the checkpoint of a model that you expect to be exactly identical (initializing a BertForSequenceClassification model from a BertForSequenceClassification model).\n",
      "Some layers of TFDistilBertForSequenceClassification were not initialized from the model checkpoint at distilbert-base-uncased and are newly initialized: ['classifier', 'dropout_19', 'pre_classifier']\n",
      "You should probably TRAIN this model on a down-stream task to be able to use it for predictions and inference.\n"
     ]
    }
   ],
   "source": [
    "from transformers import TFDistilBertForSequenceClassification, DistilBertConfig,DistilBertTokenizerFast\n",
    "import tensorflow as tf\n",
    "\n",
    "config = DistilBertConfig.from_pretrained('distilbert-base-uncased')\n",
    "config.num_labels = 4\n",
    "transformer_model = TFDistilBertForSequenceClassification.from_pretrained('distilbert-base-uncased', config=config)\n",
    "tokenizer = DistilBertTokenizerFast.from_pretrained('distilbert-base-uncased')\n"
   ]
  },
  {
   "cell_type": "code",
   "execution_count": 3,
   "id": "polish-plain",
   "metadata": {},
   "outputs": [
    {
     "name": "stdout",
     "output_type": "stream",
     "text": [
      "WARNING:tensorflow:The parameters `output_attentions`, `output_hidden_states` and `use_cache` cannot be updated when calling a model.They have to be set to True/False in the config object (i.e.: `config=XConfig.from_pretrained('name', output_attentions=True)`).\n",
      "WARNING:tensorflow:AutoGraph could not transform <bound method Socket.send of <zmq.sugar.socket.Socket object at 0x7f52b045c0a0>> and will run it as-is.\n",
      "Please report this to the TensorFlow team. When filing the bug, set the verbosity to 10 (on Linux, `export AUTOGRAPH_VERBOSITY=10`) and attach the full output.\n",
      "Cause: module, class, method, function, traceback, frame, or code object was expected, got cython_function_or_method\n",
      "To silence this warning, decorate the function with @tf.autograph.experimental.do_not_convert\n",
      "WARNING: AutoGraph could not transform <bound method Socket.send of <zmq.sugar.socket.Socket object at 0x7f52b045c0a0>> and will run it as-is.\n",
      "Please report this to the TensorFlow team. When filing the bug, set the verbosity to 10 (on Linux, `export AUTOGRAPH_VERBOSITY=10`) and attach the full output.\n",
      "Cause: module, class, method, function, traceback, frame, or code object was expected, got cython_function_or_method\n",
      "To silence this warning, decorate the function with @tf.autograph.experimental.do_not_convert\n",
      "WARNING:tensorflow:The parameter `return_dict` cannot be set in graph mode and will always be set to `True`.\n"
     ]
    }
   ],
   "source": [
    "##TODO build a transformer model to do sequence classification with the goal to predict the label from the text\n",
    "\n",
    "max_len = 30\n",
    "\n",
    "input_ids = tf.keras.layers.Input(shape=(max_len,), name='input_token', dtype='int32')\n",
    "input_masks_ids = tf.keras.layers.Input(shape=(max_len,), name='masked_token', dtype='int32')\n",
    "X = transformer_model(input_ids, input_masks_ids)\n",
    "model = tf.keras.Model(inputs=[input_ids, input_masks_ids], outputs = X)"
   ]
  },
  {
   "cell_type": "code",
   "execution_count": 4,
   "id": "medical-crisis",
   "metadata": {},
   "outputs": [
    {
     "name": "stdout",
     "output_type": "stream",
     "text": [
      "Model: \"model\"\n",
      "__________________________________________________________________________________________________\n",
      "Layer (type)                    Output Shape         Param #     Connected to                     \n",
      "==================================================================================================\n",
      "input_token (InputLayer)        [(None, 30)]         0                                            \n",
      "__________________________________________________________________________________________________\n",
      "masked_token (InputLayer)       [(None, 30)]         0                                            \n",
      "__________________________________________________________________________________________________\n",
      "tf_distil_bert_for_sequence_cla TFSequenceClassifier 66956548    input_token[0][0]                \n",
      "==================================================================================================\n",
      "Total params: 66,956,548\n",
      "Trainable params: 66,956,548\n",
      "Non-trainable params: 0\n",
      "__________________________________________________________________________________________________\n"
     ]
    }
   ],
   "source": [
    "##TODO print the summary of the model\n",
    "model.summary()"
   ]
  },
  {
   "cell_type": "code",
   "execution_count": 5,
   "id": "detected-wheel",
   "metadata": {},
   "outputs": [],
   "source": [
    "##TODO compile the model\n",
    "\n",
    "model.compile(loss='sparse_categorical_crossentropy',\n",
    "              optimizer='adam', \n",
    "              metrics=['accuracy']) "
   ]
  },
  {
   "cell_type": "code",
   "execution_count": 6,
   "id": "chinese-irrigation",
   "metadata": {},
   "outputs": [],
   "source": [
    "##TODO split the sample into a training and a test set \n",
    "##TODO prepare the dataset for tensorflow.\n",
    "\n",
    "from sklearn.model_selection import train_test_split\n",
    "\n",
    "X_train, X_test, y_train, y_test = train_test_split(df['text'].tolist(), df['label'].tolist(), test_size=.2)\n",
    "X_train_tf = [tokenizer(x, return_tensors=\"tf\", padding=True, truncation=True, max_length=max_len) for x in X_train]"
   ]
  },
  {
   "cell_type": "code",
   "execution_count": 7,
   "id": "tracked-browse",
   "metadata": {},
   "outputs": [
    {
     "data": {
      "text/plain": [
       "19"
      ]
     },
     "execution_count": 7,
     "metadata": {},
     "output_type": "execute_result"
    }
   ],
   "source": [
    "len(X_train_tf[562][\"attention_mask\"][0].numpy())\n",
    "lengths = [len(x[\"input_ids\"][0].numpy()) for x in X_train_tf]\n",
    "min(lengths)"
   ]
  },
  {
   "cell_type": "code",
   "execution_count": 8,
   "id": "missing-faith",
   "metadata": {},
   "outputs": [
    {
     "name": "stdout",
     "output_type": "stream",
     "text": [
      "WARNING:tensorflow:The parameters `output_attentions`, `output_hidden_states` and `use_cache` cannot be updated when calling a model.They have to be set to True/False in the config object (i.e.: `config=XConfig.from_pretrained('name', output_attentions=True)`).\n",
      "WARNING:tensorflow:The parameter `return_dict` cannot be set in graph mode and will always be set to `True`.\n",
      "WARNING:tensorflow:The parameters `output_attentions`, `output_hidden_states` and `use_cache` cannot be updated when calling a model.They have to be set to True/False in the config object (i.e.: `config=XConfig.from_pretrained('name', output_attentions=True)`).\n",
      "WARNING:tensorflow:The parameter `return_dict` cannot be set in graph mode and will always be set to `True`.\n",
      "969/969 [==============================] - 1180s 1s/step - loss: 1.4345 - accuracy: 0.2397\n"
     ]
    }
   ],
   "source": [
    "##TODO fit the model and print the obtained accuracy\n",
    "\n",
    "input_ids, input_masks = [x[\"input_ids\"][0].numpy() for x in X_train_tf if len(x[\"input_ids\"][0].numpy())==max_len], [x[\"attention_mask\"][0].numpy() for x in X_train_tf if len(x[\"attention_mask\"][0].numpy())==max_len]\n",
    "y_train = [y for y, l in zip(y_train, lengths) if l==max_len]\n",
    "dataset = tf.data.Dataset.from_tensor_slices(({'input_token': input_ids, 'masked_token': input_masks}, y_train)).batch(8)\n",
    "\n",
    "model_info = model.fit(dataset, epochs=1)"
   ]
  },
  {
   "cell_type": "code",
   "execution_count": 9,
   "id": "floppy-steering",
   "metadata": {},
   "outputs": [
    {
     "data": {
      "text/plain": [
       "{'loss': [1.4344974756240845], 'accuracy': [0.23970569670200348]}"
      ]
     },
     "execution_count": 9,
     "metadata": {},
     "output_type": "execute_result"
    }
   ],
   "source": [
    "model_info.history"
   ]
  },
  {
   "cell_type": "markdown",
   "id": "defensive-template",
   "metadata": {},
   "source": [
    "## Generating Text"
   ]
  },
  {
   "cell_type": "code",
   "execution_count": 10,
   "id": "surrounded-crystal",
   "metadata": {},
   "outputs": [
    {
     "data": {
      "text/plain": [
       "[{'text': \"New Orleans Urges People to Take Shelter NEW ORLEANS - With 135-mph Hurricane Ivan closing in with frightening intensity, this flood-prone city scrambled Wednesday to get people out of harm's way, putting the frail and elderly in the cavernous Louisiana Superdome and urging others to move to higher floors in tall buildings.    Ivan made a slight turn north on a path that could bring it ashore early Thursday at the Alabama-Mississippi line, near Mobile, Ala., but forecasters said everyone from New Orleans to the Panhandle should be worried...\"},\n",
       " {'text': 'SI.com ST. LOUIS (Ticker) -- It looked like Roger Clemens , Lance Berkman and Jeff Bagwell were leading the Houston Astros to an easy victory, but it turned out to be not so easy.'},\n",
       " {'text': 'Stock option expensing required next year The independent body charged with setting US accounting standards on Thursday gave hard deadlines for companies to treat stock options as expenses in financial statements.'},\n",
       " {'text': 'Underwater Archaeologists Dig for History (AP) AP - Instead of wearing khakis, students this summer at Croton Point Park donned wet suits and scuba gear as they dug up discoveries beyond the reach of landlocked archaeologists.'}]"
      ]
     },
     "execution_count": 10,
     "metadata": {},
     "output_type": "execute_result"
    }
   ],
   "source": [
    "#!pip install transformers\n",
    "\n",
    "from transformers import GPT2LMHeadModel, GPT2Tokenizer\n",
    "tokenizer = GPT2Tokenizer.from_pretrained(\"gpt2\")\n",
    "model = GPT2LMHeadModel.from_pretrained(\"gpt2\", pad_token_id=tokenizer.eos_token_id)\n",
    "\n",
    "##TODO Pick one snippet for each label and generate some starting from the first 4-5 words\n",
    "snippets = df[[\"label\", \"text\"]].groupby(\"label\").first().to_dict(orient=\"records\")    \n",
    "snippets"
   ]
  },
  {
   "cell_type": "code",
   "execution_count": 11,
   "id": "unlike-rwanda",
   "metadata": {},
   "outputs": [
    {
     "name": "stdout",
     "output_type": "stream",
     "text": [
      "  \n",
      "--------------------------\n",
      "Original Text: New Orleans Urges People to Take Shelter NEW ORLEANS - With 135-mph Hurricane Ivan closing in with frightening intensity, this flood-prone city scrambled Wednesday to get people out of harm's way, putting the frail and elderly in the cavernous Louisiana Superdome and urging others to move to higher floors in tall buildings.    Ivan made a slight turn north on a path that could bring it ashore early Thursday at the Alabama-Mississippi line, near Mobile, Ala., but forecasters said everyone from New Orleans to the Panhandle should be worried...\n",
      "  \n",
      "Input: New Orleans Urges People to\n",
      "  \n",
      "-----------\n",
      "GREEDY\n",
      "-----------\n",
      "New Orleans Urges People to Stop Using the 'F' word'\n",
      "\n",
      "The city of New Orleans is urging people to stop using the 'F' word, which is used to describe people who are not in the U.S.\n",
      "\n",
      "\n",
      "  \n",
      "-----------\n",
      "BEAM\n",
      "-----------\n",
      "New Orleans Urges People to Stand Up to Police Brutality\n",
      "\n",
      "The city of New Orleans is urging people to stand up to police brutality, saying it's time for the city to take a stand against the violence that has taken place at the hands\n",
      "  \n",
      "-----------\n",
      "SAMPLING\n",
      "-----------\n",
      "New Orleans Urges People to Show Left-Wing Support for Decolonization After 'Al Queda' Hate-Free Police Attacks In Ferguson, Missouri. 10 December 2015. http://www.huffingtonpost.com/jewish-\n",
      "  \n",
      "--------------------------\n",
      "Original Text: SI.com ST. LOUIS (Ticker) -- It looked like Roger Clemens , Lance Berkman and Jeff Bagwell were leading the Houston Astros to an easy victory, but it turned out to be not so easy.\n",
      "  \n",
      "Input: SI.com ST. LOUIS (Ticker) --\n",
      "  \n",
      "-----------\n",
      "GREEDY\n",
      "-----------\n",
      "SI.com ST. LOUIS (Ticker) -- The St. Louis Rams have signed free agent wide receiver Brandon Marshall to a one-year contract.\n",
      "\n",
      "Marshall, a 6-foot-3, 230-pound receiver from\n",
      "  \n",
      "-----------\n",
      "BEAM\n",
      "-----------\n",
      "SI.com ST. LOUIS (Ticker) -- The St. Louis Rams have agreed to terms on a five-year, $50 million contract extension.\n",
      "\n",
      "The deal will pay the Rams a total of $25 million over five\n",
      "  \n",
      "-----------\n",
      "SAMPLING\n",
      "-----------\n",
      "SI.com ST. LOUIS (Ticker) -- Former Tennessee running back Lamar Miller signed a two-year deal with the Browns on Thursday. That deal expires after the 2018 season. Miller spent his first two seasons in New York and finished\n",
      "  \n",
      "--------------------------\n",
      "Original Text: Stock option expensing required next year The independent body charged with setting US accounting standards on Thursday gave hard deadlines for companies to treat stock options as expenses in financial statements.\n",
      "  \n",
      "Input: Stock option expensing required next\n",
      "  \n",
      "-----------\n",
      "GREEDY\n",
      "-----------\n",
      "Stock option expensing required next year.\n",
      "\n",
      "The company said it would not disclose the details of the deal until after the end of the year.\n",
      "\n",
      "The company said it would not disclose the details of the deal until after the end of the\n",
      "  \n",
      "-----------\n",
      "BEAM\n",
      "-----------\n",
      "Stock option expensing required next year.\n",
      "\n",
      "\"I think it's going to be interesting to see what happens in the next couple of years,\" he said. \"I don't know if we'll be able to do that. But I think\n",
      "  \n",
      "-----------\n",
      "SAMPLING\n",
      "-----------\n",
      "Stock option expensing required next time on a loan. A loan is made in a given financial year.\n",
      "\n",
      "Carmí\n",
      "\n",
      "Carmí-based forex exchanges can be more profitable with lending institutions than bankers or lenders.\n",
      "\n",
      "\n",
      "  \n",
      "--------------------------\n",
      "Original Text: Underwater Archaeologists Dig for History (AP) AP - Instead of wearing khakis, students this summer at Croton Point Park donned wet suits and scuba gear as they dug up discoveries beyond the reach of landlocked archaeologists.\n",
      "  \n",
      "Input: Underwater Archaeologists Dig for History\n",
      "  \n",
      "-----------\n",
      "GREEDY\n",
      "-----------\n",
      "Underwater Archaeologists Dig for History of the World's Most Famous Archaeological Sites\n",
      "\n",
      "The world's most famous archaeological sites are being excavated in the United States, Canada, Australia, New Zealand, and the United Kingdom.\n",
      "\n",
      "The sites\n",
      "  \n",
      "-----------\n",
      "BEAM\n",
      "-----------\n",
      "Underwater Archaeologists Dig for History of the World's Most Important Archaeological Finds\n",
      "\n",
      "The world's most important archaeological finds have been unearthed in the South China Sea, which is home to more than 1,000 archaeological sites.\n",
      ". The\n",
      "  \n",
      "-----------\n",
      "SAMPLING\n",
      "-----------\n",
      "Underwater Archaeologists Dig for History in North Carolina Museum\n",
      "\n",
      "\n",
      "MMS\n",
      "\n",
      "NJL Access to History\n",
      "\n",
      "University of Charlotte Open Data Unit\n",
      "\n",
      "NJL Access to History - Department of Museums, State University of New York (UN\n"
     ]
    }
   ],
   "source": [
    "\n",
    "\n",
    "for snip in snippets:\n",
    "    print('  ')\n",
    "    print('--------------------------')\n",
    "    print('Original Text: ' + snip['text'])\n",
    "    print('  ')\n",
    "    \n",
    "    list_txt = snip['text'].split(' ')\n",
    "    input = ' '.join(list_txt[:5])\n",
    "    input_ids = tokenizer.encode(input, return_tensors='pt')\n",
    "    print('Input: ' + input)\n",
    "    print('  ')\n",
    "    print('-----------')\n",
    "    print('GREEDY')\n",
    "    print('-----------')\n",
    "    greedy_output = model.generate(input_ids, max_length=50)\n",
    "    print(tokenizer.decode(greedy_output[0], skip_special_tokens=True))\n",
    "    \n",
    "    print('  ')\n",
    "    print('-----------')\n",
    "    print('BEAM')\n",
    "    print('-----------')\n",
    "    beam_output = model.generate(\n",
    "    input_ids, \n",
    "    max_length=50, \n",
    "    num_beams=5, \n",
    "    no_repeat_ngram_size=2, # to avoid repetitions of the same word sequences\n",
    "    early_stopping=True\n",
    "    )\n",
    "    print(tokenizer.decode(beam_output[0], skip_special_tokens=True))\n",
    "    \n",
    "    print('  ')\n",
    "    print('-----------')\n",
    "    print('SAMPLING')\n",
    "    print('-----------')\n",
    "    sample_output = model.generate(\n",
    "    input_ids, \n",
    "    do_sample=True, \n",
    "    max_length=50, \n",
    "    top_p=0.92, \n",
    "    top_k=0\n",
    "    )\n",
    "    print(tokenizer.decode(sample_output[0], skip_special_tokens=True))"
   ]
  },
  {
   "cell_type": "code",
   "execution_count": 12,
   "id": "choice-disaster",
   "metadata": {},
   "outputs": [],
   "source": [
    "## pick the generating model that looks best to you (and explain why) and set the length of each generated document to 50"
   ]
  }
 ],
 "metadata": {
  "kernelspec": {
   "display_name": "Python 3",
   "language": "python",
   "name": "python3"
  },
  "language_info": {
   "codemirror_mode": {
    "name": "ipython",
    "version": 3
   },
   "file_extension": ".py",
   "mimetype": "text/x-python",
   "name": "python",
   "nbconvert_exporter": "python",
   "pygments_lexer": "ipython3",
   "version": "3.8.6"
  }
 },
 "nbformat": 4,
 "nbformat_minor": 5
}
